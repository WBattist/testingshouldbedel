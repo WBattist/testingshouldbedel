# model_training.ipynb

import numpy as np
import tensorflow as tf
from sklearn.model_selection import train_test_split
from models.acoustic_model import build_acoustic_model
from utils.audio_processing import load_audio_data, preprocess_audio

# Load configuration settings
config = {
    'data': {
        'processed_data_path': 'data/processed/',
        'sample_rate': 16000,
        'n_mfcc': 13
    },
    'model': {
        'batch_size': 32,
        'epochs': 50,
        'learning_rate': 0.001
    }
}

# Load and preprocess the data
audio_data = load_audio_data(config['data']['processed_data_path'], config['data']['sample_rate'])
X, y = preprocess_audio(audio_data, config['data']['n_mfcc'])

# Split the data into training and validation sets
X_train, X_val, y_train, y_val = train_test_split(X, y, test_size=0.2, random_state=42)

# Build the acoustic model
model = build_acoustic_model(input_shape=(None, config['data']['n_mfcc']))

# Compile the model
model.compile(optimizer=tf.keras.optimizers.Adam(learning_rate=config['model']['learning_rate']),
              loss='categorical_crossentropy',
              metrics=['accuracy'])

# Train the model
history = model.fit(X_train, y_train, validation_data=(X_val, y_val),
                    epochs=config['model']['epochs'], batch_size=config['model']['batch_size'])

# Plot training history
import matplotlib.pyplot as plt

plt.plot(history.history['accuracy'], label='accuracy')
plt.plot(history.history['val_accuracy'], label = 'val_accuracy')
plt.xlabel('Epoch')
plt.ylabel('Accuracy')
plt.ylim([0, 1])
plt.legend(loc='lower right')
plt.title('Model Training Accuracy')
plt.show()
